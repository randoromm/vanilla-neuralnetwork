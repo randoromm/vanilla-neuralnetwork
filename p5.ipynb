{
  "nbformat": 4,
  "nbformat_minor": 0,
  "metadata": {
    "colab": {
      "provenance": [],
      "toc_visible": true,
      "authorship_tag": "ABX9TyNg7ChvQmPukA3chlmtMN3K",
      "include_colab_link": true
    },
    "kernelspec": {
      "name": "python3",
      "display_name": "Python 3"
    },
    "language_info": {
      "name": "python"
    }
  },
  "cells": [
    {
      "cell_type": "markdown",
      "metadata": {
        "id": "view-in-github",
        "colab_type": "text"
      },
      "source": [
        "<a href=\"https://colab.research.google.com/github/randoromm/vanilla-neuralnetwork/blob/main/p5.ipynb\" target=\"_parent\"><img src=\"https://colab.research.google.com/assets/colab-badge.svg\" alt=\"Open In Colab\"/></a>"
      ]
    },
    {
      "cell_type": "code",
      "execution_count": null,
      "metadata": {
        "id": "wou0xHrSxZnl"
      },
      "outputs": [],
      "source": [
        "import numpy as np\n",
        "import nnfs\n",
        "\n",
        "nnfs.init()\n",
        "\n",
        "np.random.seed(0)\n",
        "\n",
        "# Input feature sets capital x is a standard in ML - actual input data.\n",
        "X = [[1.0, 2.0, 3.0, 2.5],\n",
        "     [2.0, 5.0, -1.0, 2.0],\n",
        "     [-1.5, 2.7, 3.3, -0.8]]\n",
        "\n",
        "\n",
        "class Layer_Dense:\n",
        "    \"\"\"\n",
        "    Generally we want to keep the weights around -0.1 to 0.1 in the beginning. During the development of the network\n",
        "    otherwise things can explode with all the multiplication. Good idea is to also normalize the inputs between -1 to 1.\n",
        "\n",
        "    Biases are usually kept at 0 by default. If you notice that the outputs are not generated, it might mean that\n",
        "    the network is dead. Then adding non-zero bias might make sense.\n",
        "    \"\"\"\n",
        "    def __init__(self, n_inputs, n_neurons):\n",
        "        # Initial\n",
        "layer2 = Layer_Dense(5, 2)\n",
        "\n",
        "layer1.forward(X)\n",
        "print(f\"Layer1 output: \\n{layer1.output}\")\n",
        "layer2.forward(layer1.output)\n",
        "print(f\"Layer2 output: \\n{layer2.output}\")\n"
      ]
    },
    {
      "cell_type": "markdown",
      "source": [
        "# Neural Networks from Scratch\n",
        "\n",
        "\n",
        "\n",
        "\n",
        "# Coding on ipad\n",
        "\n",
        "\n",
        "\n",
        "# Hehehe"
      ],
      "metadata": {
        "id": "PtAmfLK0e9u_"
      }
    },
    {
      "cell_type": "markdown",
      "source": [
        "# New section"
      ],
      "metadata": {
        "id": "2iVROX8phHLD"
      }
    },
    {
      "cell_type": "code",
      "source": [
        "pip install nnfs"
      ],
      "metadata": {
        "colab": {
          "base_uri": "https://localhost:8080/"
        },
        "id": "hm8JkVSfe80i",
        "outputId": "606dbe1f-5348-47b5-8745-0b8d2e9650c7"
      },
      "execution_count": 4,
      "outputs": [
        {
          "output_type": "stream",
          "name": "stdout",
          "text": [
            "Collecting nnfs\n",
            "  Downloading nnfs-0.5.1-py3-none-any.whl (9.1 kB)\n",
            "Requirement already satisfied: numpy in /usr/local/lib/python3.10/dist-packages (from nnfs) (1.23.5)\n",
            "Installing collected packages: nnfs\n",
            "Successfully installed nnfs-0.5.1\n"
          ]
        }
      ]
    }
  ]
}